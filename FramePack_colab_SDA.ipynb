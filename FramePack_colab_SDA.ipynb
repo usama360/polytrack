{
  "nbformat": 4,
  "nbformat_minor": 0,
  "metadata": {
    "colab": {
      "private_outputs": true,
      "provenance": [],
      "machine_shape": "hm",
      "gpuType": "T4",
      "include_colab_link": true
    },
    "kernelspec": {
      "name": "python3",
      "display_name": "Python 3"
    },
    "language_info": {
      "name": "python"
    },
    "accelerator": "GPU"
  },
  "cells": [
    {
      "cell_type": "markdown",
      "metadata": {
        "id": "view-in-github",
        "colab_type": "text"
      },
      "source": [
        "<a href=\"https://colab.research.google.com/github/usama360/polytrack/blob/main/FramePack_colab_SDA.ipynb\" target=\"_parent\"><img src=\"https://colab.research.google.com/assets/colab-badge.svg\" alt=\"Open In Colab\"/></a>"
      ]
    },
    {
      "cell_type": "markdown",
      "source": [
        "## [stable-diffusion-art.com](https://stable-diffusion-art.com) - Check out latest tutorials.\n",
        "\n",
        "### [Guide to use this notebook](https://stable-diffusion-art.com/framepack-colab/) - Leave comment if you have questions.\n",
        "\n",
        "\n",
        "#### <b>Become a member to support the maintenance of this notebook.</b>\n",
        "\n",
        "[<img src=\"https://stable-diffusion-art.com/wp-content/uploads/2023/10/see_member_benefit_button300.png\" width=200>](https://stable-diffusion-art.com/member)\n",
        "\n",
        "\n",
        "This notebook launches [FramePack](https://github.com/lllyasviel/FramePack).\n",
        "\n",
        "## Update\n",
        "- 4/29/2025: First version.\n"
      ],
      "metadata": {
        "id": "zKVjV4Y5bPBg"
      }
    },
    {
      "cell_type": "code",
      "source": [
        "#@title <font size=\"6\" color=\"orange\">FramePack</font>\n",
        "#@markdown #### <--- Click to run. Follow the **public** URL link **`https://xxxxxxx.gradio.live`** to launch the app.\n",
        "# Save_Videos_in_Google_Drive = True #@param{type: \"boolean\"}\n",
        "# Save_folder = 'AI_PICS/FramePack' #@param {type:\"string\"}\n",
        "\n",
        "def updatePython():\n",
        "  !python --version > /content/pyversion\n",
        "  with open('/content/pyversion', 'r') as file:\n",
        "      if '3.10' in file.read():\n",
        "        print('Python 3.10 detected. Skip installation.')\n",
        "        return\n",
        "\n",
        "  #install python 3.10\n",
        "  !apt-get update -y\n",
        "  !apt-get install python3.10\n",
        "\n",
        "  #change alternatives\n",
        "  !rm /usr/local/bin/python\n",
        "  !rm /usr/local/bin/pip\n",
        "  !sudo apt-get install python3.10-distutils\n",
        "  !sudo update-alternatives --install /usr/local/bin/python python /usr/bin/python3.10 2\n",
        "  !wget https://bootstrap.pypa.io/get-pip.py && python get-pip.py\n",
        "\n",
        "def clear():\n",
        "    from IPython.display import clear_output; return clear_output()\n",
        "\n",
        "# save in google drive\n",
        "# if Save_Videos_in_Google_Drive:\n",
        "#   import os\n",
        "#   from google.colab import drive\n",
        "#   drive.mount('/content/drive')\n",
        "\n",
        "# install python 3.10\n",
        "updatePython()\n",
        "\n",
        "# install FramePack\n",
        "%cd /content/\n",
        "!git clone https://github.com/lllyasviel/FramePack\n",
        "%cd FramePack\n",
        "!pip install torch torchvision torchaudio --index-url https://download.pytorch.org/whl/cu126\n",
        "!pip install -r requirements.txt\n",
        "!pip install sageattention==1.0.6\n",
        "# if Save_Videos_in_Google_Drive:\n",
        "#     output_path = '/content/drive/MyDrive/' + Save_folder\n",
        "#     if not os.path.exists(output_path):\n",
        "#       %mkdir -p {output_path}\n",
        "#     !rm -rf /content/FramePack/outputs/\n",
        "#     !ln -s {output_path} /content/FramePack/outputs\n",
        "\n",
        "\n",
        "\n",
        "# Run\n",
        "clear()\n",
        "!PYTORCH_CUDA_ALLOC_CONF=expandable_segments:True python demo_gradio.py --share"
      ],
      "metadata": {
        "cellView": "form",
        "id": "Gvsj5rkJbxHx"
      },
      "execution_count": null,
      "outputs": []
    }
  ]
}